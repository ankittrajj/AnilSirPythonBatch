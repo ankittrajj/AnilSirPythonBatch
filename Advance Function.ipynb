{
 "cells": [
  {
   "cell_type": "markdown",
   "id": "70923b58",
   "metadata": {},
   "source": [
    "# lambda\n",
    "<!--  -->Filter\n",
    "<!--  -->Map\n",
    "<!--  -->Reduce\n",
    "\n",
    "<!--  -->Decorator"
   ]
  },
  {
   "cell_type": "code",
   "execution_count": 1,
   "id": "2b50085c",
   "metadata": {},
   "outputs": [
    {
     "data": {
      "text/plain": [
       "3"
      ]
     },
     "execution_count": 1,
     "metadata": {},
     "output_type": "execute_result"
    }
   ],
   "source": [
    "# function\n",
    "#wap two two numbers.\n",
    "\n",
    "def add(x,y):\n",
    "    result = x+y\n",
    "    return result\n",
    "add(1,2)\n"
   ]
  },
  {
   "cell_type": "code",
   "execution_count": 20,
   "id": "dbdcee5f",
   "metadata": {},
   "outputs": [
    {
     "name": "stdout",
     "output_type": "stream",
     "text": [
      "7\n"
     ]
    }
   ],
   "source": [
    "#wap to add two numbers with lambda function.\n",
    "\n",
    "var = lambda x,y:x+y\n",
    "print(var(1,6))"
   ]
  },
  {
   "cell_type": "code",
   "execution_count": 8,
   "id": "429c6b49",
   "metadata": {},
   "outputs": [
    {
     "name": "stdout",
     "output_type": "stream",
     "text": [
      "(56, 78, 34, 23, 1, 8, 43, 66, 34)\n"
     ]
    }
   ],
   "source": [
    "# filter map & reduce\n",
    "\n",
    "\n",
    "# filter----> increase the quality of data.\n",
    "\n",
    "a = [56,78,34,23,1,90,8,43,66,34,87,456]\n",
    "x = tuple(filter(lambda a:True if a<80 else False,a))\n",
    "print(x)\n"
   ]
  },
  {
   "cell_type": "code",
   "execution_count": 19,
   "id": "302bc15d",
   "metadata": {},
   "outputs": [
    {
     "name": "stdout",
     "output_type": "stream",
     "text": [
      "10\n"
     ]
    }
   ],
   "source": [
    "x = lambda a,b:a+b\n",
    "print(x(8,2))"
   ]
  },
  {
   "cell_type": "code",
   "execution_count": 12,
   "id": "468f3b1e",
   "metadata": {},
   "outputs": [],
   "source": [
    "a = [56,78,34,23,1,90,8,43,66,34,87,456]\n",
    "x = list(filter(lambda a : True if a>80 else False,a))"
   ]
  },
  {
   "cell_type": "code",
   "execution_count": 18,
   "id": "ad64541f",
   "metadata": {},
   "outputs": [
    {
     "name": "stdout",
     "output_type": "stream",
     "text": [
      "[90, 87, 456]\n"
     ]
    }
   ],
   "source": [
    "print(x)"
   ]
  },
  {
   "cell_type": "code",
   "execution_count": 14,
   "id": "fc594fb6",
   "metadata": {},
   "outputs": [
    {
     "data": {
      "text/plain": [
       "list"
      ]
     },
     "execution_count": 14,
     "metadata": {},
     "output_type": "execute_result"
    }
   ],
   "source": [
    "type(x)"
   ]
  },
  {
   "cell_type": "code",
   "execution_count": 17,
   "id": "3587834e",
   "metadata": {},
   "outputs": [
    {
     "name": "stdout",
     "output_type": "stream",
     "text": [
      "(8100, 7569, 207936)\n"
     ]
    }
   ],
   "source": [
    "# map function-----> math operation \n",
    "print(tuple(map(lambda c : c**2,x)))"
   ]
  },
  {
   "cell_type": "code",
   "execution_count": 22,
   "id": "704f1e8e",
   "metadata": {},
   "outputs": [],
   "source": [
    "# reduce\n",
    "from functools import reduce\n"
   ]
  },
  {
   "cell_type": "code",
   "execution_count": 26,
   "id": "c6a81c5d",
   "metadata": {},
   "outputs": [
    {
     "name": "stdout",
     "output_type": "stream",
     "text": [
      "10\n"
     ]
    }
   ],
   "source": [
    "a = [1,2,3,4]\n",
    "x = 0 \n",
    "for i in a:\n",
    "    x = x+i\n",
    "print(x)"
   ]
  },
  {
   "cell_type": "code",
   "execution_count": 29,
   "id": "67db60b1",
   "metadata": {},
   "outputs": [
    {
     "name": "stdout",
     "output_type": "stream",
     "text": [
      "10\n"
     ]
    }
   ],
   "source": [
    "sum=0\n",
    "A=[1,2,3,4]\n",
    "for e in A:\n",
    "    sum+=e\n",
    "print(sum)"
   ]
  },
  {
   "cell_type": "code",
   "execution_count": 31,
   "id": "df48fe19",
   "metadata": {},
   "outputs": [
    {
     "name": "stdout",
     "output_type": "stream",
     "text": [
      "10\n"
     ]
    }
   ],
   "source": [
    "a = [1,2,3,4]\n",
    "print(reduce(lambda x,y:x+y,a))"
   ]
  },
  {
   "cell_type": "markdown",
   "id": "ed3b4a7c",
   "metadata": {},
   "source": [
    "# Decorators----> use to decorate/modify the function.\n",
    "\n",
    "\n"
   ]
  },
  {
   "cell_type": "code",
   "execution_count": 38,
   "id": "cb0d6abc",
   "metadata": {},
   "outputs": [
    {
     "name": "stdout",
     "output_type": "stream",
     "text": [
      "hello bhai!!\n",
      "<function fun.<locals>.greet at 0x00000244A8228280> 5678\n"
     ]
    }
   ],
   "source": [
    "def fun(msg):\n",
    "    print(\"hello bhai!!\")\n",
    "    \n",
    "    def greet():\n",
    "        print(greet,msg)\n",
    "    greet()\n",
    "    \n",
    "fun(5678)\n"
   ]
  },
  {
   "cell_type": "code",
   "execution_count": 40,
   "id": "dca2321a",
   "metadata": {},
   "outputs": [
    {
     "name": "stdout",
     "output_type": "stream",
     "text": [
      "Hello bhai\n"
     ]
    }
   ],
   "source": [
    "# function inside a function.\n",
    "def me(msg):\n",
    "    greet = 'Hello'\n",
    "    \n",
    "    def you():\n",
    "        print(greet,msg)\n",
    "    you()\n",
    "    \n",
    "me(\"bhai\")"
   ]
  },
  {
   "cell_type": "code",
   "execution_count": 42,
   "id": "a81cd9c9",
   "metadata": {},
   "outputs": [
    {
     "data": {
      "text/plain": [
       "5"
      ]
     },
     "execution_count": 42,
     "metadata": {},
     "output_type": "execute_result"
    }
   ],
   "source": [
    "# function within a function\n",
    "def fun(x):\n",
    "    return x+1\n",
    "def increment(fun,y):\n",
    "    result = fun(y)\n",
    "    return result\n",
    "\n",
    "increment(fun,4)\n"
   ]
  },
  {
   "cell_type": "code",
   "execution_count": null,
   "id": "829018f5",
   "metadata": {},
   "outputs": [],
   "source": []
  }
 ],
 "metadata": {
  "kernelspec": {
   "display_name": "Python 3 (ipykernel)",
   "language": "python",
   "name": "python3"
  },
  "language_info": {
   "codemirror_mode": {
    "name": "ipython",
    "version": 3
   },
   "file_extension": ".py",
   "mimetype": "text/x-python",
   "name": "python",
   "nbconvert_exporter": "python",
   "pygments_lexer": "ipython3",
   "version": "3.9.7"
  }
 },
 "nbformat": 4,
 "nbformat_minor": 5
}
