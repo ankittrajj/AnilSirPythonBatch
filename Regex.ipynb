{
 "cells": [
  {
   "cell_type": "code",
   "execution_count": 1,
   "id": "5369d81d",
   "metadata": {},
   "outputs": [],
   "source": [
    "# findall\n",
    "# search\n",
    "# split\n",
    "# sub\n",
    "# finditer"
   ]
  },
  {
   "cell_type": "code",
   "execution_count": 2,
   "id": "cbe3990c",
   "metadata": {},
   "outputs": [],
   "source": [
    "# import re module\n",
    "import re"
   ]
  },
  {
   "cell_type": "code",
   "execution_count": 3,
   "id": "86c667ec",
   "metadata": {},
   "outputs": [
    {
     "data": {
      "text/plain": [
       "['lion']"
      ]
     },
     "execution_count": 3,
     "metadata": {},
     "output_type": "execute_result"
    }
   ],
   "source": [
    "a = \"I am a lion\"\n",
    "re.findall(\"lion\",a)"
   ]
  },
  {
   "cell_type": "code",
   "execution_count": 7,
   "id": "5c1929fa",
   "metadata": {},
   "outputs": [
    {
     "data": {
      "text/plain": [
       "[]"
      ]
     },
     "execution_count": 7,
     "metadata": {},
     "output_type": "execute_result"
    }
   ],
   "source": [
    "a = \"I am a lion\"\n",
    "re.findall(\"tiger\",a)"
   ]
  },
  {
   "cell_type": "code",
   "execution_count": 9,
   "id": "68df5b9d",
   "metadata": {},
   "outputs": [
    {
     "data": {
      "text/plain": [
       "['i']"
      ]
     },
     "execution_count": 9,
     "metadata": {},
     "output_type": "execute_result"
    }
   ],
   "source": [
    "a = \"I am a lion,and I am very dangerous\"\n",
    "re.findall(\"i\",a)"
   ]
  },
  {
   "cell_type": "code",
   "execution_count": 12,
   "id": "7737b0c1",
   "metadata": {},
   "outputs": [
    {
     "data": {
      "text/plain": [
       "<re.Match object; span=(0, 1), match='I'>"
      ]
     },
     "execution_count": 12,
     "metadata": {},
     "output_type": "execute_result"
    }
   ],
   "source": [
    "# search\n",
    "x = \"I am a boy\"\n",
    "re.search(\"I\",x)"
   ]
  },
  {
   "cell_type": "code",
   "execution_count": 13,
   "id": "fb2e0272",
   "metadata": {},
   "outputs": [],
   "source": [
    "# search\n",
    "x = \"I am a boy\"\n",
    "re.search(\"A\",x)"
   ]
  },
  {
   "cell_type": "code",
   "execution_count": 14,
   "id": "db729246",
   "metadata": {},
   "outputs": [
    {
     "data": {
      "text/plain": [
       "['Python', 'Python']"
      ]
     },
     "execution_count": 14,
     "metadata": {},
     "output_type": "execute_result"
    }
   ],
   "source": [
    "x = \"Python is a high-level, interpreted, general-purpose programming language. Its design philosophy emphasizes code readability with the use of significant indentation. Python is dynamically-typed and garbage-collected. \"\n",
    "re.findall('Python',x)"
   ]
  },
  {
   "cell_type": "code",
   "execution_count": 15,
   "id": "414e08d9",
   "metadata": {},
   "outputs": [
    {
     "data": {
      "text/plain": [
       "<re.Match object; span=(0, 6), match='Python'>"
      ]
     },
     "execution_count": 15,
     "metadata": {},
     "output_type": "execute_result"
    }
   ],
   "source": [
    "re.search('Python',x)"
   ]
  },
  {
   "cell_type": "code",
   "execution_count": 16,
   "id": "9a1ac15a",
   "metadata": {},
   "outputs": [
    {
     "data": {
      "text/plain": [
       "['I am ', ' lover but hate Java']"
      ]
     },
     "execution_count": 16,
     "metadata": {},
     "output_type": "execute_result"
    }
   ],
   "source": [
    "s = \"I am python lover but hate Java\"\n",
    "re.split('python',s)"
   ]
  },
  {
   "cell_type": "code",
   "execution_count": 22,
   "id": "fd44cd46",
   "metadata": {},
   "outputs": [
    {
     "data": {
      "text/plain": [
       "['I am python lover but hate Java']"
      ]
     },
     "execution_count": 22,
     "metadata": {},
     "output_type": "execute_result"
    }
   ],
   "source": [
    "s = \"I am python lover but hate Java\"\n",
    "re.split('Ruby',s)"
   ]
  },
  {
   "cell_type": "code",
   "execution_count": 26,
   "id": "d91d4884",
   "metadata": {},
   "outputs": [
    {
     "name": "stdout",
     "output_type": "stream",
     "text": [
      "My starting point is -----> 2\n",
      "My endind point is -----> 3\n"
     ]
    }
   ],
   "source": [
    "# finditer\n",
    "a = \"I am coder\"\n",
    "pattern = 'a'\n",
    "for i in re.finditer(pattern,a):\n",
    "    x = i.start()\n",
    "    y = i.end()\n",
    "    print(\"My starting point is ----->\",x)\n",
    "    print(\"My endind point is ----->\",y)"
   ]
  },
  {
   "cell_type": "code",
   "execution_count": 23,
   "id": "d14ff309",
   "metadata": {},
   "outputs": [],
   "source": [
    "#wap to find the email is valid or not ??\n",
    "# email = abc@123.com\n",
    "\n",
    "#wap to find all a in the string ----> I am a boy who owns a \n",
    "# laptop and also having\n",
    "# a phone.\n",
    "\n",
    "#wap to match the pattern and also try to replace \n",
    "# the value from tv to computer.\n",
    "# string = I am having a tv which is a smart tv.\n",
    "\n",
    "#wap to find the starting & ending point of the pattern \n",
    "# where your string is----> \"I am known with \n",
    "# unknown personality.\""
   ]
  },
  {
   "cell_type": "code",
   "execution_count": 21,
   "id": "9fb0d885",
   "metadata": {},
   "outputs": [
    {
     "data": {
      "text/plain": [
       "'I am C++ lover but hate Java'"
      ]
     },
     "execution_count": 21,
     "metadata": {},
     "output_type": "execute_result"
    }
   ],
   "source": [
    "# sub\n",
    "s = \"I am python lover but hate Java\"\n",
    "re.sub(\"python\",\"C++\",s)"
   ]
  },
  {
   "cell_type": "code",
   "execution_count": 35,
   "id": "b481d404",
   "metadata": {},
   "outputs": [
    {
     "name": "stdout",
     "output_type": "stream",
     "text": [
      "Invalid\n"
     ]
    }
   ],
   "source": [
    "#wap to find the email is valid or not ??\n",
    "# email = abc@123.com\n",
    "s = []\n",
    "a = 'abc@123.com'\n",
    "s = re.findall('@',a)\n",
    "x=[]\n",
    "x = re.findall(\".com\",a)\n",
    "\n",
    "if s!= [] and x!=[]:\n",
    "    print(\"Valid email\")\n",
    "else:\n",
    "    print(\"Invalid\")"
   ]
  },
  {
   "cell_type": "code",
   "execution_count": 32,
   "id": "bc1de49e",
   "metadata": {},
   "outputs": [
    {
     "data": {
      "text/plain": [
       "['@']"
      ]
     },
     "execution_count": 32,
     "metadata": {},
     "output_type": "execute_result"
    }
   ],
   "source": [
    "s"
   ]
  },
  {
   "cell_type": "code",
   "execution_count": null,
   "id": "c1440be7",
   "metadata": {},
   "outputs": [],
   "source": []
  }
 ],
 "metadata": {
  "kernelspec": {
   "display_name": "Python 3 (ipykernel)",
   "language": "python",
   "name": "python3"
  },
  "language_info": {
   "codemirror_mode": {
    "name": "ipython",
    "version": 3
   },
   "file_extension": ".py",
   "mimetype": "text/x-python",
   "name": "python",
   "nbconvert_exporter": "python",
   "pygments_lexer": "ipython3",
   "version": "3.9.7"
  }
 },
 "nbformat": 4,
 "nbformat_minor": 5
}
